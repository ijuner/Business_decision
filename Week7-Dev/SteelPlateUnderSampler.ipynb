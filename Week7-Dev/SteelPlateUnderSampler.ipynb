{
 "cells": [
  {
   "cell_type": "markdown",
   "metadata": {},
   "source": [
    "#### **Utility for reducing sample images**"
   ]
  },
  {
   "cell_type": "code",
   "execution_count": 7,
   "metadata": {},
   "outputs": [
    {
     "name": "stdout",
     "output_type": "stream",
     "text": [
      "Process completed. New folder created: severstal_dataset_1000_17-02-2025\n",
      "Updated CSV saved at: severstal_dataset_1000_17-02-2025\\train.csv\n"
     ]
    }
   ],
   "source": [
    "import os\n",
    "import random\n",
    "import shutil\n",
    "import pandas as pd\n",
    "from datetime import datetime\n",
    "\n",
    "def select_images_and_update_csv(train_csv_path, train_images_folder, num_images_to_keep):\n",
    "    # Load CSV file\n",
    "    df = pd.read_csv(train_csv_path)\n",
    "    \n",
    "    # Get all image ids\n",
    "    image_ids = df['ImageId'].unique()\n",
    "    \n",
    "    # Randomly select num_images_to_keep image ids\n",
    "    selected_image_ids = random.sample(list(image_ids), num_images_to_keep)\n",
    "    \n",
    "    # Create a new directory with a timestamp\n",
    "    current_date = datetime.now().strftime('%d-%m-%Y')\n",
    "    new_folder_name = f\"severstal_dataset_{num_images_to_keep}_{current_date}\"\n",
    "    os.makedirs(new_folder_name, exist_ok=True)\n",
    "    \n",
    "    # Create a sub-folder for selected images\n",
    "    new_images_folder = os.path.join(new_folder_name, 'train_images')\n",
    "    os.makedirs(new_images_folder, exist_ok=True)\n",
    "    \n",
    "    # Copy the selected images to the new folder\n",
    "    for image_id in selected_image_ids:\n",
    "        image_file = os.path.join(train_images_folder, f\"{image_id}\")\n",
    "        if os.path.exists(image_file):\n",
    "            shutil.copy(image_file, new_images_folder)\n",
    "    \n",
    "    # Filter the CSV to keep only rows corresponding to selected image ids\n",
    "    new_df = df[df['ImageId'].isin(selected_image_ids)]\n",
    "    \n",
    "    # Save the updated CSV to the new folder\n",
    "    new_csv_path = os.path.join(new_folder_name, 'train.csv')\n",
    "    new_df.to_csv(new_csv_path, index=False)\n",
    "    \n",
    "    print(f\"Process completed. New folder created: {new_folder_name}\")\n",
    "    print(f\"Updated CSV saved at: {new_csv_path}\")\n",
    "\n",
    "# Example usage\n",
    "train_csv_path = 'train.csv'\n",
    "train_images_folder = 'train_images/'\n",
    "num_images_to_keep = 1000\n",
    "\n",
    "select_images_and_update_csv(train_csv_path, train_images_folder, num_images_to_keep)\n"
   ]
  }
 ],
 "metadata": {
  "kernelspec": {
   "display_name": "CSCN8010_classical_ml_311",
   "language": "python",
   "name": "python3"
  },
  "language_info": {
   "codemirror_mode": {
    "name": "ipython",
    "version": 3
   },
   "file_extension": ".py",
   "mimetype": "text/x-python",
   "name": "python",
   "nbconvert_exporter": "python",
   "pygments_lexer": "ipython3",
   "version": "3.11.9"
  }
 },
 "nbformat": 4,
 "nbformat_minor": 2
}
