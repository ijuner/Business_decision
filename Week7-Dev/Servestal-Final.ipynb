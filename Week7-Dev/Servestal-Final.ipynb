{
 "cells": [
  {
   "cell_type": "markdown",
   "metadata": {},
   "source": [
    "#### **Servestal Steel Defect Detection**\n",
    "\n",
    "##### **Problem** \n",
    "1. 4 different defect types are given. Namely 1,2,3 and 4.\n",
    "2. The defective segments are given in train.csv file encoded in RLE format.\n",
    "3. The aim of the solution is to increase defect detection, classification and then segmentation while keeping the inference time as low as possible."
   ]
  },
  {
   "cell_type": "markdown",
   "metadata": {},
   "source": [
    "#### **Strategy**\n",
    "\n",
    "- Train a simple classification model for defect/no-defect classification.\n",
    "- If defect is detected we run through another classification model for identifying which defect class it belongs to. \n",
    "- Once the class is identified run through the segmentation model for creating masks."
   ]
  },
  {
   "cell_type": "markdown",
   "metadata": {},
   "source": [
    "> Due to computational limitations we created a smaller sample of 1000 images from train_images to run the experiment.\n",
    "\n",
    "> Once the whole pipeline is ready we will run it on the entire dataset."
   ]
  },
  {
   "cell_type": "markdown",
   "metadata": {},
   "source": [
    "#### **What we have achieved ?**"
   ]
  },
  {
   "cell_type": "markdown",
   "metadata": {},
   "source": [
    "- We created a segmentation model using UNet as base and trained and validated using 700 and 200 images respectively. \n",
    "\n",
    "```SteelPlateGoogleColab.ipynb```\n",
    "- We achieved an accuracy of ~80% only and there were issues in the predicted mask. This was due to the output layer not properly configured.\n",
    "- We are in the process of correcting the output layer for correctly spitting out masks.\n",
    "\n",
    "- We created a classification model for each class 1, 2, 3 and 4. \n",
    "```\n",
    "SteelPlateClassificationModel_Class1.ipynb\n",
    "SteelPlateClassificationModel_Class2.ipynb\n",
    "```\n",
    "- So a combined pipeline of these 5 models will be our final model.\n",
    "\n",
    "- We have managed to train Class1 classification model with ~85% accuracy and Class2 with ~95% accuracy but the reason for high accuracy was it was always predicting class as Non-defect. The recall was too low."
   ]
  },
  {
   "cell_type": "markdown",
   "metadata": {},
   "source": [
    "#### **What needs to be done further**"
   ]
  },
  {
   "cell_type": "markdown",
   "metadata": {},
   "source": [
    "- Correct the classification model to achieve better recall.\n",
    "- Correct the prediction mask by correcting the output layer error which we have to figure out."
   ]
  }
 ],
 "metadata": {
  "language_info": {
   "name": "python"
  }
 },
 "nbformat": 4,
 "nbformat_minor": 2
}
