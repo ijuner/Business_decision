{
 "cells": [
  {
   "cell_type": "markdown",
   "metadata": {},
   "source": [
    "#### **Check GPU**"
   ]
  },
  {
   "cell_type": "code",
   "execution_count": null,
   "metadata": {},
   "outputs": [],
   "source": [
    "import tensorflow as tf\n",
    "\n",
    "# Check if GPU is available\n",
    "print(\"Num GPUs Available:\", len(tf.config.list_physical_devices('GPU')))\n",
    "\n",
    "# Display GPU name\n",
    "!nvidia-smi"
   ]
  },
  {
   "cell_type": "markdown",
   "metadata": {},
   "source": [
    "#### **Configure Google Drive**"
   ]
  },
  {
   "cell_type": "code",
   "execution_count": null,
   "metadata": {},
   "outputs": [],
   "source": [
    "from google.colab import drive\n",
    "drive.mount('/content/drive')\n",
    "\n",
    "# Change directory to your dataset\n",
    "import os\n",
    "os.chdir('/content/drive/MyDrive/Severstal/severstal-1000/')  # Change this path"
   ]
  },
  {
   "cell_type": "code",
   "execution_count": null,
   "metadata": {},
   "outputs": [],
   "source": [
    "import os\n",
    "import json\n",
    "\n",
    "import cv2\n",
    "import keras\n",
    "from keras import backend as K\n",
    "from keras.models import Model\n",
    "from keras.layers import Input\n",
    "from keras.layers.convolutional import Conv2D, Conv2DTranspose\n",
    "from keras.layers.pooling import MaxPooling2D\n",
    "from keras.layers.merge import concatenate\n",
    "from keras.losses import binary_crossentropy\n",
    "from keras.callbacks import Callback, ModelCheckpoint\n",
    "import matplotlib.pyplot as plt\n",
    "import numpy as np\n",
    "import pandas as pd\n",
    "from tqdm import tqdm\n",
    "from sklearn.model_selection import train_test_split\n",
    "from glob import glob\n",
    "\n",
    "%matplotlib inline\n",
    "import numpy as np\n",
    "import pandas as pd\n",
    "import cv2\n",
    "import matplotlib.pyplot as plt\n",
    "from sklearn.model_selection import train_test_split\n",
    "import os\n",
    "import keras\n",
    "from keras.preprocessing.image import ImageDataGenerator\n",
    "from keras import backend as K\n",
    "from keras.layers import GlobalAveragePooling2D, Dense, Conv2D, BatchNormalization, Dropout\n",
    "from keras.models import Model, load_model \n",
    "import gc\n",
    "!pip install segmentation-models\n",
    "!pip install git+https://github.com/qubvel/segmentation_models"
   ]
  },
  {
   "cell_type": "code",
   "execution_count": null,
   "metadata": {},
   "outputs": [],
   "source": [
    "trainImgPath = \"/kaggle/input/severstal-steel-defect-detection/train_images/\"\n",
    "trainCsv = \"/kaggle/input/severstal-steel-defect-detection/train.csv\"\n",
    "data=pd.read_csv(trainCsv)\n",
    "data.ClassId=data.ClassId.astype(int)\n",
    "\n",
    "train_Img_Id = []\n",
    "train_class_Id = []\n",
    "for i in os.listdir(trainImgPath):\n",
    "    for j in range(1,5):\n",
    "        train_Img_Id.append(i)\n",
    "        train_class_Id.append(j)\n",
    "train_Imgs = pd.DataFrame({'ImageId':train_Img_Id,'ClassId':train_class_Id})\n",
    "train_Imgs.head(10)\n",
    "\n",
    "\n",
    "\n",
    "train_data = pd.merge(train_Imgs,data ,how='outer', on=['ImageId','ClassId']) \n",
    "train_data = train_data.fillna('') \n",
    "train_data"
   ]
  },
  {
   "cell_type": "code",
   "execution_count": null,
   "metadata": {},
   "outputs": [],
   "source": [
    "train_data = pd.pivot_table(train_data, values='EncodedPixels', index='ImageId',columns='ClassId', aggfunc=np.sum).astype(str)\n",
    "train_data = train_data.reset_index() # add Index column to one level with classID   \n",
    "train_data.columns = ['ImageId','Defect_1','Defect_2','Defect_3','Defect_4'] \n",
    "has_defect = []\n",
    "stratify = []\n",
    "for index,row in train_data.iterrows():\n",
    "    if row.Defect_1 or row.Defect_2 or row.Defect_3 or row.Defect_4: \n",
    "        has_defect.append(1)\n",
    "    else:\n",
    "        has_defect.append(0) \n",
    "    if row.Defect_1 != '':\n",
    "        stratify.append(1)\n",
    "    elif row.Defect_2 != '':\n",
    "        stratify.append(2)\n",
    "    elif row.Defect_3:\n",
    "        stratify.append(3)\n",
    "    elif row.Defect_4:\n",
    "        stratify.append(4)\n",
    "    else:\n",
    "        stratify.append(0)\n",
    "        \n",
    "train_data[\"has_defect\"] = has_defect \n",
    "train_data[\"stratify\"] = stratify \n",
    "\n",
    "train_data.head(5) "
   ]
  },
  {
   "cell_type": "code",
   "execution_count": null,
   "metadata": {},
   "outputs": [],
   "source": [
    "WIDTH=288\n",
    "HEIGHT=288\n",
    "TRAINING_SIZE=7095\n",
    "\n",
    "x_train, x_test = train_test_split(train_data, test_size = 0.1, stratify=train_data['stratify'], random_state=42)\n",
    "x_train, x_val = train_test_split(x_train, test_size = 0.2, stratify = x_train['stratify'], random_state=42)\n",
    "print(x_train.shape, x_val.shape, x_test.shape) "
   ]
  },
  {
   "cell_type": "code",
   "execution_count": null,
   "metadata": {},
   "outputs": [],
   "source": [
    "x_train_classification = x_train[['ImageId','has_defect']]\n",
    "x_val_classification = x_val[['ImageId','has_defect']]\n",
    "x_test_classification = x_test[['ImageId','has_defect']] \n",
    "print(x_train_classification.shape , x_val_classification.shape,x_test_classification.shape)\n",
    "x_train_classification.head()"
   ]
  },
  {
   "cell_type": "code",
   "execution_count": null,
   "metadata": {},
   "outputs": [],
   "source": [
    "from keras.preprocessing.image import ImageDataGenerator \n",
    "train_datagen = ImageDataGenerator(rescale=1./255., shear_range=0.2, zoom_range=0.05, rotation_range=5,\n",
    "                           width_shift_range=0.2, height_shift_range=0.2, horizontal_flip=True, vertical_flip=True)\n",
    "\n",
    "test_datagen = ImageDataGenerator(rescale=1./255)\n",
    "\n",
    "train_data_generator = train_datagen.flow_from_dataframe(\n",
    "        dataframe=x_train_classification.astype(str),\n",
    "        directory=trainImgPath,\n",
    "        x_col=\"ImageId\",\n",
    "        y_col=\"has_defect\",\n",
    "        target_size=(WIDTH,HEIGHT),\n",
    "        batch_size=16,\n",
    "        class_mode='binary') \n",
    "\n",
    "valid_data_generator = test_datagen.flow_from_dataframe(\n",
    "        dataframe=x_val_classification.astype(str),\n",
    "        directory=trainImgPath,\n",
    "        x_col=\"ImageId\",\n",
    "        y_col=\"has_defect\",\n",
    "        target_size=(WIDTH,HEIGHT),\n",
    "        batch_size=16,\n",
    "        class_mode='binary') "
   ]
  },
  {
   "cell_type": "markdown",
   "metadata": {},
   "source": [
    "#### **Classification Model**"
   ]
  },
  {
   "cell_type": "code",
   "execution_count": null,
   "metadata": {},
   "outputs": [],
   "source": [
    "classification_model = keras.applications.xception.Xception(include_top = False, input_shape = (HEIGHT,WIDTH,3))\n",
    "\n",
    "layer = classification_model.output\n",
    "layer = GlobalAveragePooling2D()(layer)\n",
    "\n",
    "layer = Dense(1024, activation='relu')(layer)\n",
    "layer = BatchNormalization()(layer)\n",
    "layer = Dropout(0.3)(layer)\n",
    "\n",
    "layer = Dense(512, activation='relu')(layer)\n",
    "layer = BatchNormalization()(layer)\n",
    "layer = Dropout(0.3)(layer)\n",
    "\n",
    "layer = Dense(64, activation='relu')(layer)\n",
    "predictions = Dense(1, activation='sigmoid')(layer)\n",
    "model = Model(inputs=classification_model.input, outputs=predictions)\n",
    "model.summary()"
   ]
  },
  {
   "cell_type": "code",
   "execution_count": null,
   "metadata": {},
   "outputs": [],
   "source": [
    "model.compile(optimizer='adam', loss='binary_crossentropy',metrics=['accuracy'])\n",
    "Training = model.fit_generator(train_data_generator, validation_data = valid_data_generator, epochs = 10, verbose=1)"
   ]
  },
  {
   "cell_type": "code",
   "execution_count": null,
   "metadata": {},
   "outputs": [],
   "source": [
    "model.save('/content/drive/MyDrive/Severstal/severstal-1000/classification_model.keras')"
   ]
  }
 ],
 "metadata": {
  "kernelspec": {
   "display_name": "CSCN8010_classical_ml_311",
   "language": "python",
   "name": "python3"
  },
  "language_info": {
   "name": "python",
   "version": "3.11.9"
  }
 },
 "nbformat": 4,
 "nbformat_minor": 2
}
